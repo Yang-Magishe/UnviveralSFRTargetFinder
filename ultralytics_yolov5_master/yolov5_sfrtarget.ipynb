{
 "cells": [
  {
   "cell_type": "markdown",
   "metadata": {},
   "source": [
    "# SFR Finder Example"
   ]
  },
  {
   "cell_type": "markdown",
   "metadata": {},
   "source": [
    "### Train Data with New Daataset on Pre-trained Weights"
   ]
  },
  {
   "cell_type": "code",
   "execution_count": null,
   "metadata": {},
   "outputs": [],
   "source": [
    "\"\"\"Create new dataset under ../datasets/sfrtarget\n",
    "Create new yaml file in data/sfrtarget.yaml\n",
    "\"\"\"\n",
    "\n",
    "# Train YOLOv5s on sfrtarget for 20 epochs\n",
    "!python train.py --img 640 --batch 8 --epochs 20 --data sfrtarget.yaml --weights yolov5s.pt --cache"
   ]
  },
  {
   "cell_type": "markdown",
   "metadata": {},
   "source": [
    "### Detection Using Trained Weight"
   ]
  },
  {
   "cell_type": "code",
   "execution_count": 5,
   "metadata": {},
   "outputs": [
    {
     "name": "stdout",
     "output_type": "stream",
     "text": [
      "\u001b[31m\u001b[1mrequirements:\u001b[0m Ultralytics requirement ['opencv-python>=4.1.1'] not found, attempting AutoUpdate...\n",
      "\u001b[31m\u001b[1mrequirements:\u001b[0m ❌ Command 'pip install --no-cache \"opencv-python>=4.1.1\" ' returned non-zero exit status 1.\n"
     ]
    },
    {
     "name": "stderr",
     "output_type": "stream",
     "text": [
      "\u001b[34m\u001b[1mdetect: \u001b[0mweights=['best.pt'], source=data/images, data=data\\coco128.yaml, imgsz=[640, 640], conf_thres=0.25, iou_thres=0.45, max_det=1000, device=, view_img=False, save_txt=False, save_csv=False, save_conf=False, save_crop=False, nosave=False, classes=None, agnostic_nms=False, augment=False, visualize=False, update=False, project=runs\\detect, name=exp, exist_ok=False, line_thickness=3, hide_labels=False, hide_conf=False, half=False, dnn=False, vid_stride=1\n",
      "ERROR: Could not install packages due to an OSError: [WinError 5] Access is denied: 'D:\\\\anaconda3\\\\Lib\\\\site-packages\\\\cv2\\\\cv2.pyd'\n",
      "Consider using the `--user` option or check the permissions.\n",
      "\n",
      "YOLOv5  2024-3-1 Python-3.11.5 torch-2.2.1 CUDA:0 (NVIDIA GeForce RTX 3080, 10240MiB)\n",
      "\n",
      "Fusing layers... \n",
      "Model summary: 157 layers, 7012822 parameters, 0 gradients\n",
      "image 1/5 E:\\Code\\Unviveral_SFR_Target_Finder\\ultralytics_yolov5_master\\data\\images\\bus.jpg: 640x480 (no detections), 47.0ms\n",
      "image 2/5 E:\\Code\\Unviveral_SFR_Target_Finder\\ultralytics_yolov5_master\\data\\images\\sfrtarget.jpg: 448x640 (no detections), 49.0ms\n",
      "image 3/5 E:\\Code\\Unviveral_SFR_Target_Finder\\ultralytics_yolov5_master\\data\\images\\sfrtarget2.png: 544x640 (no detections), 48.5ms\n",
      "image 4/5 E:\\Code\\Unviveral_SFR_Target_Finder\\ultralytics_yolov5_master\\data\\images\\shizhao.jpg: 640x480 (no detections), 3.0ms\n",
      "image 5/5 E:\\Code\\Unviveral_SFR_Target_Finder\\ultralytics_yolov5_master\\data\\images\\zidane.jpg: 384x640 (no detections), 49.5ms\n",
      "Speed: 0.6ms pre-process, 39.4ms inference, 2.1ms NMS per image at shape (1, 3, 640, 640)\n",
      "Results saved to \u001b[1mruns\\detect\\exp10\u001b[0m\n",
      "libpng warning: cHRM: invalid chromaticities\n"
     ]
    }
   ],
   "source": [
    "# Move weights from /runs/train to current directory\n",
    "!python detect.py --weights best.pt --img 640 --conf 0.25 --source data/images"
   ]
  }
 ],
 "metadata": {
  "kernelspec": {
   "display_name": "base",
   "language": "python",
   "name": "python3"
  },
  "language_info": {
   "codemirror_mode": {
    "name": "ipython",
    "version": 3
   },
   "file_extension": ".py",
   "mimetype": "text/x-python",
   "name": "python",
   "nbconvert_exporter": "python",
   "pygments_lexer": "ipython3",
   "version": "3.11.5"
  }
 },
 "nbformat": 4,
 "nbformat_minor": 2
}
