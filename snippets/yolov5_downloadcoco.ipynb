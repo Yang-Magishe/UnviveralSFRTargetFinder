{
 "cells": [
  {
   "cell_type": "code",
   "execution_count": 6,
   "metadata": {},
   "outputs": [
    {
     "name": "stderr",
     "output_type": "stream",
     "text": [
      "Downloading https://github.com/ultralytics/yolov5/releases/download/v1.0/coco2017labels.zip to E:\\Code\\Unviveral_SFR_Target_Finder\\ultralytics_yolov5_master\\data\\coco2017labels.zip...\n",
      "100%|██████████| 46.4M/46.4M [00:01<00:00, 31.6MB/s]\n",
      "Unzipping E:\\Code\\Unviveral_SFR_Target_Finder\\ultralytics_yolov5_master\\data\\coco2017labels.zip...\n",
      "Downloading http://images.cocodataset.org/zips/val2017.zip to E:\\Code\\Unviveral_SFR_Target_Finder\\ultralytics_yolov5_master\\data\\coco\\images\\val2017.zip...\n",
      "Downloading http://images.cocodataset.org/zips/test2017.zip to E:\\Code\\Unviveral_SFR_Target_Finder\\ultralytics_yolov5_master\\data\\coco\\images\\test2017.zip...\n",
      "Downloading http://images.cocodataset.org/zips/train2017.zip to E:\\Code\\Unviveral_SFR_Target_Finder\\ultralytics_yolov5_master\\data\\coco\\images\\train2017.zip...\n",
      "Unzipping E:\\Code\\Unviveral_SFR_Target_Finder\\ultralytics_yolov5_master\\data\\coco\\images\\val2017.zip...\n",
      "Unzipping E:\\Code\\Unviveral_SFR_Target_Finder\\ultralytics_yolov5_master\\data\\coco\\images\\test2017.zip...\n",
      "Unzipping E:\\Code\\Unviveral_SFR_Target_Finder\\ultralytics_yolov5_master\\data\\coco\\images\\train2017.zip...\n"
     ]
    }
   ],
   "source": [
    "# Download coco dataset, copied from coco.yaml\n",
    "\n",
    "# Download script/URL (optional)\n",
    "from utils.general import download, Path\n",
    "\n",
    "# Download labels\n",
    "segments = False  # segment or box labels\n",
    "dir = Path(\"E:/Code/Unviveral_SFR_Target_Finder/ultralytics_yolov5_master/data/coco/\")  # dataset root dir\n",
    "url = 'https://github.com/ultralytics/yolov5/releases/download/v1.0/'\n",
    "urls = [url + ('coco2017labels-segments.zip' if segments else 'coco2017labels.zip')]  # labels\n",
    "download(urls, dir=dir.parent)\n",
    "\n",
    "# Download data\n",
    "urls = ['http://images.cocodataset.org/zips/train2017.zip',  # 19G, 118k images\n",
    "        'http://images.cocodataset.org/zips/val2017.zip',  # 1G, 5k images\n",
    "        'http://images.cocodataset.org/zips/test2017.zip']  # 7G, 41k images (optional)\n",
    "download(urls, dir=dir / 'images', threads=3)"
   ]
  }
 ],
 "metadata": {
  "kernelspec": {
   "display_name": "base",
   "language": "python",
   "name": "python3"
  },
  "language_info": {
   "codemirror_mode": {
    "name": "ipython",
    "version": 3
   },
   "file_extension": ".py",
   "mimetype": "text/x-python",
   "name": "python",
   "nbconvert_exporter": "python",
   "pygments_lexer": "ipython3",
   "version": "3.11.5"
  }
 },
 "nbformat": 4,
 "nbformat_minor": 2
}
